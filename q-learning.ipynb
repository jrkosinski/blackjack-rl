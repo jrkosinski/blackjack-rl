{
 "cells": [
  {
   "cell_type": "code",
   "execution_count": 3,
   "id": "790b1fa2-d3b7-4e66-bb4a-c84e6c0e3468",
   "metadata": {
    "tags": []
   },
   "outputs": [],
   "source": [
    "from qlutils import Trainer, LayerSpec\n",
    "from matplotlib import pyplot as plt\n"
   ]
  },
  {
   "cell_type": "code",
   "execution_count": 4,
   "id": "5e11b6e6-c4f0-45be-8e3c-88f4597f4e42",
   "metadata": {
    "tags": []
   },
   "outputs": [],
   "source": [
    "\n",
    "batch_sizes = [32, 64, 128]\n",
    "gammas = [0.3, 0.5, 0.7, 0.9]\n",
    "layer_specs = [\n",
    "            [\n",
    "                LayerSpec(size=12, activation='relu'),\n",
    "                LayerSpec(size=12, activation='relu')\n",
    "            ], \n",
    "            [\n",
    "                LayerSpec(size=24, activation='relu'),\n",
    "                LayerSpec(size=24, activation='relu')\n",
    "            ], \n",
    "            [\n",
    "                LayerSpec(size=24, activation='relu'),\n",
    "                LayerSpec(size=32, activation='relu')\n",
    "            ], \n",
    "            [\n",
    "                LayerSpec(size=32, activation='relu'),\n",
    "                LayerSpec(size=32, activation='relu')\n",
    "            ], \n",
    "            [\n",
    "                LayerSpec(size=32, activation='relu'),\n",
    "                LayerSpec(size=64, activation='relu')\n",
    "            ], \n",
    "            [\n",
    "                LayerSpec(size=12, activation='relu'),\n",
    "                LayerSpec(size=12, activation='relu'),\n",
    "                LayerSpec(size=12, activation='relu')\n",
    "            ], \n",
    "            [\n",
    "                LayerSpec(size=12, activation='relu'),\n",
    "                LayerSpec(size=24, activation='relu'),\n",
    "                LayerSpec(size=32, activation='relu')\n",
    "            ], \n",
    "            [\n",
    "                LayerSpec(size=12, activation='relu'),\n",
    "                LayerSpec(size=32, activation='relu'),\n",
    "                LayerSpec(size=24, activation='relu')\n",
    "            ],\n",
    "            [\n",
    "                LayerSpec(size=12, activation='relu'),\n",
    "                LayerSpec(size=32, activation='relu'),\n",
    "                LayerSpec(size=64, activation='relu'),\n",
    "                LayerSpec(size=32, activation='relu')\n",
    "            ], \n",
    "        ]"
   ]
  },
  {
   "cell_type": "code",
   "execution_count": null,
   "id": "1d77c71a-bf8d-48ba-9789-7df4accc82cd",
   "metadata": {
    "tags": []
   },
   "outputs": [
    {
     "name": "stderr",
     "output_type": "stream",
     "text": [
      "2023-08-07 16:20:25.965303: W tensorflow/compiler/xla/stream_executor/platform/default/dso_loader.cc:64] Could not load dynamic library 'libcuda.so.1'; dlerror: libcuda.so.1: cannot open shared object file: No such file or directory\n",
      "2023-08-07 16:20:25.965352: W tensorflow/compiler/xla/stream_executor/cuda/cuda_driver.cc:265] failed call to cuInit: UNKNOWN ERROR (303)\n",
      "2023-08-07 16:20:25.965392: I tensorflow/compiler/xla/stream_executor/cuda/cuda_diagnostics.cc:156] kernel driver does not appear to be running on this host (acer-Aspire-F5-573G): /proc/driver/nvidia/version does not exist\n",
      "2023-08-07 16:20:25.965748: I tensorflow/core/platform/cpu_feature_guard.cc:193] This TensorFlow binary is optimized with oneAPI Deep Neural Network Library (oneDNN) to use the following CPU instructions in performance-critical operations:  AVX2 FMA\n",
      "To enable them in other operations, rebuild TensorFlow with the appropriate compiler flags.\n"
     ]
    }
   ],
   "source": [
    "\n",
    "trainer = Trainer(\n",
    "    num_episodes_per_epoch=300, \n",
    "    num_epochs=10000, \n",
    "    batch_size= batch_sizes[0],\n",
    "    gamma=gammas[2], \n",
    "    layer_specs = layer_specs[8], \n",
    "    num_decks = 12, \n",
    "    top_up_rate = 0.1, \n",
    "    use_hi_lo_count = True\n",
    ")\n",
    "\n",
    "results = trainer.train(save_to_file=True, load_from_file=False)\n",
    "plt.plot(results)\n",
    "plt.show()"
   ]
  },
  {
   "cell_type": "code",
   "execution_count": null,
   "id": "25cae637-9f19-4840-a684-857bf4c1d001",
   "metadata": {
    "tags": []
   },
   "outputs": [],
   "source": []
  },
  {
   "cell_type": "code",
   "execution_count": null,
   "id": "621f2e53-8637-4ef7-b0f3-c5e648e2064f",
   "metadata": {},
   "outputs": [],
   "source": []
  }
 ],
 "metadata": {
  "kernelspec": {
   "display_name": "Python 3 (ipykernel)",
   "language": "python",
   "name": "python3"
  },
  "language_info": {
   "codemirror_mode": {
    "name": "ipython",
    "version": 3
   },
   "file_extension": ".py",
   "mimetype": "text/x-python",
   "name": "python",
   "nbconvert_exporter": "python",
   "pygments_lexer": "ipython3",
   "version": "3.8.10"
  }
 },
 "nbformat": 4,
 "nbformat_minor": 5
}
